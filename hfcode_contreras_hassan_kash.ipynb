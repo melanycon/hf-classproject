{
 "cells": [
  {
   "cell_type": "code",
   "execution_count": null,
   "metadata": {
    "colab": {
     "base_uri": "https://localhost:8080/"
    },
    "id": "t9T0XRWWKY15",
    "outputId": "d64c41f2-306b-4b80-a5a0-27ff080857f7"
   },
   "outputs": [
    {
     "name": "stdout",
     "output_type": "stream",
     "text": [
      "Looking in indexes: https://pypi.org/simple, https://us-python.pkg.dev/colab-wheels/public/simple/\n",
      "Requirement already satisfied: pyscf in /usr/local/lib/python3.7/dist-packages (2.0.1)\n",
      "Requirement already satisfied: numpy!=1.16,!=1.17,>=1.13 in /usr/local/lib/python3.7/dist-packages (from pyscf) (1.21.6)\n",
      "Requirement already satisfied: h5py>=2.7 in /usr/local/lib/python3.7/dist-packages (from pyscf) (3.1.0)\n",
      "Requirement already satisfied: scipy!=1.5.0,!=1.5.1 in /usr/local/lib/python3.7/dist-packages (from pyscf) (1.4.1)\n",
      "Requirement already satisfied: cached-property in /usr/local/lib/python3.7/dist-packages (from h5py>=2.7->pyscf) (1.5.2)\n"
     ]
    }
   ],
   "source": [
    "!pip install pyscf"
   ]
  },
  {
   "cell_type": "code",
   "execution_count": null,
   "metadata": {
    "id": "t3WvkWo7LRMC"
   },
   "outputs": [],
   "source": [
    "import pyscf\n",
    "import numpy as np\n",
    "from sympy import *\n",
    "import math\n",
    "from scipy.spatial import distance"
   ]
  },
  {
   "cell_type": "code",
   "execution_count": null,
   "metadata": {
    "id": "nBbGWrYPbYCS"
   },
   "outputs": [],
   "source": [
    "#diagonalize using symmetric orthogonalization\n",
    "def diagonalize_vector(overlap):\n",
    "    S_eigenvalues, U = np.linalg.eigh(overlap)\n",
    "\n",
    "    # Diagonalize S: s = (U_transpose.S).U\n",
    "    s = U.transpose().dot(overlap).dot(U)\n",
    "    s_rounded = np.around(s, decimals = 5)\n",
    "    s_sqrtinv = np.linalg.inv(np.sqrt(s_rounded))\n",
    "    diagonal = U.dot(s_sqrtinv).dot(U.transpose())\n",
    "    return diagonal"
   ]
  },
  {
   "cell_type": "code",
   "execution_count": null,
   "metadata": {
    "id": "7YSz3fXIjsw6"
   },
   "outputs": [],
   "source": [
    "# define our two electron part of Fock matrix (G)\n",
    "\n",
    "def define_G(density, e2e, leng):\n",
    "    G = np.zeros((leng,leng))\n",
    "    for mu in range(leng):\n",
    "        for nu in range(leng):\n",
    "            set_val = 0\n",
    "            for la in range(leng):\n",
    "                for si in range(leng):\n",
    "                    set_val += density[la][si] * (e2e[mu][nu][si][la] - 0.5 * e2e[mu][la][si][nu])\n",
    "\n",
    "            G[mu][nu] = set_val\n",
    "  \n",
    "  return G"
   ]
  },
  {
   "cell_type": "code",
   "execution_count": null,
   "metadata": {
    "id": "71Dx1mHGo3eM"
   },
   "outputs": [],
   "source": [
    "def calc_F_prime(diagonal,F):\n",
    "\n",
    "    F_pr= diagonal.transpose().dot(F).dot(diagonal)\n",
    "    return F_pr\n"
   ]
  },
  {
   "cell_type": "code",
   "execution_count": null,
   "metadata": {
    "id": "4u8npA22wLuT"
   },
   "outputs": [],
   "source": [
    "#recalculate the new density matrix\n",
    "def new_density(C1, leng, N):\n",
    "    new_P = np.zeros((leng,leng))\n",
    "    for mu in range(leng):\n",
    "        for nu in range(leng):\n",
    "            set_val = 0\n",
    "            for la in range(int(N/2)):\n",
    "                set_val += (2 * C1[mu][la]*C1[nu][la])\n",
    "\n",
    "            new_P[mu][nu] = set_val\n",
    "  \n",
    "    return new_P\n",
    "\n",
    "  "
   ]
  },
  {
   "cell_type": "code",
   "execution_count": null,
   "metadata": {
    "id": "iBdYu4yPw-MQ"
   },
   "outputs": [],
   "source": [
    "#compare the old and new density matrices to determine the degree of difference\n",
    "def delta_P(newP, oldP,leng):\n",
    "    deviation = np.sum(np.power(newP-oldP,2))\n",
    "    deviation = deviation / (leng*leng) #double check\n",
    "    return math.sqrt(deviation)"
   ]
  },
  {
   "cell_type": "code",
   "execution_count": null,
   "metadata": {
    "id": "eLxwCbmIK3Fy"
   },
   "outputs": [],
   "source": [
    "# extract charge of molecule\n",
    "def get_Z(molecule):\n",
    "    Z = []\n",
    "    for i in (molecule._atm):\n",
    "        Z.append(i[0])\n",
    "    return Z"
   ]
  },
  {
   "cell_type": "code",
   "execution_count": null,
   "metadata": {
    "id": "JmCUdfjYjKcC"
   },
   "outputs": [],
   "source": [
    "#calculate the nuclear energies for non-pyscf integrals\n",
    "def energy_nucl(r,Z):\n",
    "    nuc_en = 0\n",
    "    for i in range(len(r)):\n",
    "        for j in range(i+1, len(r)):\n",
    "            nuc_en += Z[i]*Z[j]/distance.euclidean(r[i],r[j])\n",
    "\n",
    "    return nuc_en\n",
    "\n",
    "#calculate the nuclear energies for pyscf integrals\n",
    "def energy_nucl_pyscf(molecule):\n",
    "    return molecule.energy_nuc()"
   ]
  },
  {
   "cell_type": "code",
   "execution_count": null,
   "metadata": {
    "id": "1H94MDzhjNU8"
   },
   "outputs": [],
   "source": [
    "#calculate the electronic energy from the density matrix\n",
    "def energy_elec(new_P, coreham, F,leng):\n",
    "    elec_en = 0\n",
    "    for mu in range(leng):\n",
    "        for nu in range( leng):\n",
    "            elec_en+= new_P[nu][mu]* (coreham[mu][nu]+F[mu][nu])\n",
    "    return elec_en*0.5"
   ]
  },
  {
   "cell_type": "code",
   "execution_count": null,
   "metadata": {
    "colab": {
     "base_uri": "https://localhost:8080/"
    },
    "id": "1kjMjoTf1e-O",
    "outputId": "f951325b-1eb0-4797-9ebb-25def46ebfae"
   },
   "outputs": [
    {
     "name": "stdout",
     "output_type": "stream",
     "text": [
      "deltaP: 0.7869801995781783 for iteration: 1\n",
      "deltaP: 0.0 for iteration: 2\n",
      "Converged after 2 iterations to density matrix\n",
      " [[0.7869802 0.7869802]\n",
      " [0.7869802 0.7869802]]\n",
      "\n",
      "\n",
      "Nuclear Energy: 0.3617069110868079\n",
      "Electronic Energy: -1.283753178330831\n",
      "Total Energy of System: -0.922046267244023\n",
      "\n",
      "\n",
      "Energies calculated using the given pyscf HF functions (used for comparison)\n",
      "converged SCF energy = -0.922046885373691\n",
      "Nuclear Energy: 0.3617069110868079\n",
      "Electronic Energy: -1.2837537964604993\n",
      "Total Energy: -0.9220468853736914\n"
     ]
    }
   ],
   "source": [
    "'''\n",
    "SCF Procedure using Pyscf Integrals\n",
    "'''\n",
    "max_iter = 50\n",
    "i=0\n",
    "\n",
    "molecule = pyscf.gto.M(atom = 'H 0 0 0; H 1.463 0 0', basis = 'sto-3g')\n",
    "rh2=[[0.0, 0.0, 0.0], [1.463, 0.0, 0.0]] #hardcode coordinates (x,y,z)\n",
    "Z = get_Z(molecule)\n",
    "molecule.build()\n",
    "\n",
    "kE = molecule.intor('int1e_kin',aosym = 's1')\n",
    "pE_nuc = molecule.intor('int1e_nuc', aosym = 's1')\n",
    "overlap = molecule.intor('int1e_ovlp',aosym = 's1')\n",
    "e2e = molecule.intor('int2e',aosym = 's1')\n",
    "coreham = kE+pE_nuc\n",
    "\n",
    "diagonal=diagonalize_vector(overlap)\n",
    "guess_den_matrix = (np.ones((len(overlap[0]),len(overlap[0]))))\n",
    "new_P=np.zeros([len(overlap[0]), len(overlap[0])])\n",
    "\n",
    "while((delta_P(new_P, guess_den_matrix, len(overlap[0]))>0.0001) and (i < max_iter)):\n",
    "    i+=1\n",
    "  \n",
    "    guess_den_matrix=new_P\n",
    "\n",
    "    G=define_G(guess_den_matrix,e2e,len(overlap))\n",
    "    F=coreham+G \n",
    "\n",
    "    F_pr= calc_F_prime(diagonal, F)\n",
    " \n",
    "    eps,C_pr = np.linalg.eigh(F_pr)\n",
    "  \n",
    "    C1 = diagonal.dot(C_pr)\n",
    "  \n",
    "    N= molecule.nelectron\n",
    "\n",
    "    new_P= new_density(C1, len(overlap[0]), N)\n",
    "  \n",
    "    print('deltaP: '+str(delta_P(new_P, guess_den_matrix, len(overlap[0])))+' for iteration: '+str(i))\n",
    "if((delta_P(new_P, guess_den_matrix, len(overlap[0]))<=0.0001)):\n",
    "    print('Converged after '+str(i)+' iterations to density matrix\\n '+str(new_P))\n",
    "else:\n",
    "    print('Did not converge in '+ str(i)+' iterations')\n",
    "\n",
    "print('\\n')\n",
    "nucenergy = energy_nucl_pyscf(molecule)\n",
    "print('Nuclear Energy: '+str(nucenergy))\n",
    "elecenergy = energy_elec(new_P, coreham, F, len(overlap))\n",
    "print('Electronic Energy: '+str(elecenergy))\n",
    "totalE = nucenergy+elecenergy\n",
    "print('Total Energy of System: '+str(totalE))\n",
    "\n",
    "print('\\n')\n",
    "print('Energies calculated using the given pyscf HF functions (used for comparison)')\n",
    "mf = pyscf.scf.RHF(molecule)\n",
    "mf.kernel()\n",
    "print('Nuclear Energy: '+str(mf.energy_nuc()))\n",
    "print('Electronic Energy: '+ str(mf.energy_elec()[0]))\n",
    "print('Total Energy: ' + str(mf.energy_tot()))"
   ]
  },
  {
   "cell_type": "code",
   "execution_count": null,
   "metadata": {
    "colab": {
     "base_uri": "https://localhost:8080/"
    },
    "id": "1vi0K6JGeX1u",
    "outputId": "1ae190e7-3fe1-479f-e36e-0751c0a67dfa"
   },
   "outputs": [
    {
     "name": "stdout",
     "output_type": "stream",
     "text": [
      "deltaP: 0.7599773480431314 for iteration: 1\n",
      "deltaP: 0.019017491090931413 for iteration: 2\n",
      "deltaP: 0.0012684805826594812 for iteration: 3\n",
      "deltaP: 8.667478219283301e-05 for iteration: 4\n",
      "Converged after 4 iterations to density matrix\n",
      " [[1.33262637 0.51741981]\n",
      " [0.51741981 0.20089897]]\n",
      "\n",
      "\n",
      "Nuclear Energy: 0.683526999316473\n",
      "Electronic Energy: -1.6593120239447776\n",
      "Total Energy of System: -0.9757850246283046\n"
     ]
    }
   ],
   "source": [
    "'''\n",
    "SCF Procedure using example Hartree Fock integrals which were calculated in the sample code\n",
    "'''\n",
    "max_iter = 50\n",
    "i=0\n",
    "\n",
    "molecule = pyscf.gto.M(atom = 'H 0 0 0; H 1.463 0 0', basis = 'sto-3g')\n",
    "rh2=[[0.0, 0.0, 0.0], [1.463, 0.0, 0.0]] #hardcode coordinates (x,y,z)\n",
    "Z = get_Z(molecule)\n",
    "molecule.build()\n",
    "\n",
    "#Integrals from HF Sample Code\n",
    "e2e = np.array([[[[0.7746083600328786, 0.31179457036897384], [0.3117945703689739, 0.6057033663335998]], [[0.31179457036897396, 0.17726712195066144], [0.17726712195066147, 0.43727932526541696]]], [[[0.3117945703689739, 0.17726712195066147], [0.17726712195066147, 0.43727932526541696]], [[0.6057033663335994, 0.43727932526541685], [0.43727932526541696, 1.3071516075554823]]]])\n",
    "overlap= np.array([[1.0000014259978642, 0.4507704116477876],[0.45077041164778753, 1.0000014259978642]])\n",
    "coreham= np.array([[-1.09920546, -0.79574889],[-0.79574889, -0.58283112]])\n",
    "\n",
    "diagonal=diagonalize_vector(overlap)\n",
    "guess_den_matrix = (np.ones((len(overlap[0]),len(overlap[0]))))\n",
    "new_P=np.zeros([len(overlap[0]), len(overlap[0])])\n",
    "\n",
    "while((delta_P(new_P, guess_den_matrix, len(overlap[0]))>0.0001) and (i < max_iter)):\n",
    "    i+=1\n",
    "    \n",
    "    guess_den_matrix=new_P\n",
    "\n",
    "    G=define_G(guess_den_matrix,e2e,len(overlap))\n",
    "    F=coreham+G \n",
    "\n",
    "    F_pr= calc_F_prime(diagonal, F)\n",
    " \n",
    "    eps,C_pr = np.linalg.eigh(F_pr)\n",
    "  \n",
    "    C1 = diagonal.dot(C_pr)\n",
    "  \n",
    "    N= molecule.nelectron\n",
    "\n",
    "    new_P= new_density(C1, len(overlap[0]), N)\n",
    "  \n",
    "    print('deltaP: '+str(delta_P(new_P, guess_den_matrix, len(overlap[0])))+' for iteration: '+str(i))\n",
    "if((delta_P(new_P, guess_den_matrix, len(overlap[0]))<=0.0001)):\n",
    "    print('Converged after '+str(i)+' iterations to density matrix\\n '+str(new_P))\n",
    "else:\n",
    "    print('Did not converge in '+ str(i)+' iterations')\n",
    "\n",
    "print('\\n')\n",
    "nucenergy = energy_nucl(rh2, Z)\n",
    "print('Nuclear Energy: '+str(nucenergy))\n",
    "elecenergy = energy_elec(new_P, coreham, F, len(overlap))\n",
    "print('Electronic Energy: '+str(elecenergy))\n",
    "totalE = nucenergy+elecenergy\n",
    "print('Total Energy of System: '+str(totalE))"
   ]
  }
 ],
 "metadata": {
  "colab": {
   "collapsed_sections": [],
   "name": "hfcode_contreras_hassan_kash.ipynb",
   "provenance": []
  },
  "kernelspec": {
   "display_name": "Python 3 (ipykernel)",
   "language": "python",
   "name": "python3"
  },
  "language_info": {
   "codemirror_mode": {
    "name": "ipython",
    "version": 3
   },
   "file_extension": ".py",
   "mimetype": "text/x-python",
   "name": "python",
   "nbconvert_exporter": "python",
   "pygments_lexer": "ipython3",
   "version": "3.9.7"
  }
 },
 "nbformat": 4,
 "nbformat_minor": 1
}
